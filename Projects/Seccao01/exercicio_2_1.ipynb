{
 "cells": [
  {
   "cell_type": "markdown",
   "metadata": {},
   "source": [
    "#### PARTE 2: ESTRUTURA CONDICIONAL\n",
    "##### Exercício 2.1:\n",
    "\n",
    "Com base na tabela de preços ao lado, faça\n",
    "um programa que leia o código de um item e a\n",
    "quantidade deste item. A seguir\n",
    "\n",
    "| CODIGO | ESPECIFICAÇÃO   | PREÇO  |\n",
    "| ------ | --------------- | ------ |\n",
    "| 1      | Cachorro Quente | R$ 4,00|\n",
    "| 2      | X-Salada        | R$ 4,50|\n",
    "| 3      | X-Bacon         | R$ 5,00|\n",
    "| 4      | Torrada Simples | R$ 2,00|\n",
    "| 5      | Refrigerante    | R$ 1,50|"
   ]
  },
  {
   "cell_type": "code",
   "execution_count": null,
   "metadata": {},
   "outputs": [],
   "source": []
  }
 ],
 "metadata": {
  "language_info": {
   "name": "python"
  }
 },
 "nbformat": 4,
 "nbformat_minor": 2
}
