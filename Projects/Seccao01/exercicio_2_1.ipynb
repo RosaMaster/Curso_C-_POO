{
 "cells": [
  {
   "cell_type": "markdown",
   "metadata": {},
   "source": [
    "#### PARTE 2: ESTRUTURA CONDICIONAL\n",
    "##### Exercício 2.1:\n",
    "\n",
    "Com base na tabela de preços ao lado, faça\n",
    "um programa que leia o código de um item e a\n",
    "quantidade deste item. A seguir\n",
    "\n",
    "| CODIGO | ESPECIFICAÇÃO   | PREÇO  |\n",
    "| ------ | --------------- | ------ |\n",
    "| 1      | Cachorro Quente | R$ 4,00|\n",
    "| 2      | X-Salada        | R$ 4,50|\n",
    "| 3      | X-Bacon         | R$ 5,00|\n",
    "| 4      | Torrada Simples | R$ 2,00|\n",
    "| 5      | Refrigerante    | R$ 1,50|"
   ]
  },
  {
   "cell_type": "code",
   "execution_count": null,
   "metadata": {},
   "outputs": [],
   "source": [
    "qtde_produto = 0\n",
    "preco_total = 0\n",
    "\n",
    "def pedido(codigo_pedido, quantidade, qtde_produto, preco_total):\n",
    "    match codigo_pedido:\n",
    "        case 1:\n",
    "            preco_total += 4.00 * quantidade\n",
    "            qtde_produto += quantidade\n",
    "        case 2:\n",
    "            preco_total += 4.50 * quantidade\n",
    "            qtde_produto += quantidade\n",
    "        case 3:\n",
    "            preco_total += 5.00 * quantidade\n",
    "            qtde_produto += quantidade\n",
    "        case 4:\n",
    "            preco_total += 2.00 * quantidade\n",
    "            qtde_produto += quantidade\n",
    "        case 5:\n",
    "            preco_total += 1.50 * quantidade\n",
    "            qtde_produto += quantidade\n",
    "        case _:\n",
    "            print(\"Código inválido - Digite um código válido!\")\n",
    "\n",
    "    return qtde_produto, preco_total\n",
    "\n",
    "\n",
    "codigo_pedido = int(input(\"Digite o código da peça: \"))\n",
    "\n",
    "while codigo_pedido != 0:\n",
    "\n",
    "    quantidade = int(input(\"Digite a quantidade de peças: \"))\n",
    "    qtde_produto, preco_total = pedido(codigo_pedido, quantidade, qtde_produto, preco_total)\n",
    "\n",
    "    print(f\"Pedido: Peça {codigo_pedido} | {quantidade} unidades\\n\")\n",
    "    print(f\"Sub-Total de peças: {qtde_produto} unidades\")\n",
    "    print(f\"Sub-Total a pagar: R$ {preco_total:.2f}\")\n",
    "\n",
    "    print(\"\\nDigite 0 para encerrar o programa\\n\")\n",
    "\n",
    "    codigo_pedido = int(input(\"OU Digite o código da peça: \"))\n",
    "\n",
    "\n",
    "print(f\"Total de peças: {qtde_produto} unidades\")\n",
    "print(f\"Total a pagar: R$ {preco_total:.2f}\")"
   ]
  }
 ],
 "metadata": {
  "language_info": {
   "name": "python"
  }
 },
 "nbformat": 4,
 "nbformat_minor": 2
}
