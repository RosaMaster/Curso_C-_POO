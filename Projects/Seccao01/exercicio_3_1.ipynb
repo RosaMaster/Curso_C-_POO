{
 "cells": [
  {
   "cell_type": "markdown",
   "metadata": {},
   "source": [
    "#### PARTE 3: ESTRUTURAS REPETITIVAS\n",
    "##### Exercício 3.1:\n",
    "\n",
    "Escreva um programa que repita a leitura de uma senha até que ela seja válida. Para cada leitura de senha\n",
    "incorreta informada, escrever a mensagem \"Senha Invalida\". Quando a senha for informada corretamente deve ser\n",
    "impressa a mensagem \"Acesso Permitido\" e o algoritmo encerrado. Considere que a senha correta é o valor 2002."
   ]
  },
  {
   "cell_type": "code",
   "execution_count": 4,
   "metadata": {},
   "outputs": [],
   "source": [
    "lista_password = [\n",
    "    (1002),\n",
    "    (1003),\n",
    "    (1004),\n",
    "    (1005),\n",
    "    (2002), \n",
    "    (2003),\n",
    "    (2004),\n",
    "    (\"texto\")\n",
    "]"
   ]
  },
  {
   "cell_type": "code",
   "execution_count": 5,
   "metadata": {},
   "outputs": [
    {
     "name": "stdout",
     "output_type": "stream",
     "text": [
      "-------------------------------------------------------\n",
      "Código inválido - Digite um código válido!\n",
      "-------------------------------------------------------\n",
      "-------------------------------------------------------\n",
      "Código inválido - Digite um código válido!\n",
      "-------------------------------------------------------\n",
      "-------------------------------------------------------\n",
      "Código inválido - Digite um código válido!\n",
      "-------------------------------------------------------\n",
      "-------------------------------------------------------\n",
      "Código inválido - Digite um código válido!\n",
      "-------------------------------------------------------\n",
      "-------------------------------------------------------\n",
      "Acesso Permitido!\n",
      "-------------------------------------------------------\n",
      "-------------------------------------------------------\n",
      "Código inválido - Digite um código válido!\n",
      "-------------------------------------------------------\n",
      "-------------------------------------------------------\n",
      "Código inválido - Digite um código válido!\n",
      "-------------------------------------------------------\n",
      "-------------------------------------------------------\n",
      "Código inválido - Digite um código válido!\n",
      "-------------------------------------------------------\n"
     ]
    }
   ],
   "source": [
    "# Senha válida\n",
    "password = 2002\n",
    "\n",
    "\n",
    "def validador(senha):\n",
    "    match senha:\n",
    "        case 2002:\n",
    "            print(\"Acesso Permitido!\")\n",
    "        case _:\n",
    "            print(\"Código inválido - Digite um código válido!\")\n",
    "    return\n",
    "\n",
    "\n",
    "for i in lista_password:\n",
    "\n",
    "    print(\"-------------------------------------------------------\")\n",
    "\n",
    "    try:\n",
    "        validador(i)\n",
    "    \n",
    "    except:\n",
    "        print(\"Erro ao tentar descriptografar\")  \n",
    "\n",
    "    print(\"-------------------------------------------------------\")"
   ]
  }
 ],
 "metadata": {
  "kernelspec": {
   "display_name": "Python 3",
   "language": "python",
   "name": "python3"
  },
  "language_info": {
   "codemirror_mode": {
    "name": "ipython",
    "version": 3
   },
   "file_extension": ".py",
   "mimetype": "text/x-python",
   "name": "python",
   "nbconvert_exporter": "python",
   "pygments_lexer": "ipython3",
   "version": "3.12.2"
  }
 },
 "nbformat": 4,
 "nbformat_minor": 2
}
