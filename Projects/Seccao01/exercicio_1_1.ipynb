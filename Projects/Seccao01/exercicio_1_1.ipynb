{
 "cells": [
  {
   "cell_type": "markdown",
   "metadata": {},
   "source": [
    "#### PARTE 1: ESTRUTURA SEQUENCIAL\n",
    "##### Exercício 1.1:\n",
    "\n",
    "Fazer um programa para ler o código de uma peça 1, o número de peças 1, o valor unitário de cada peça 1, o\n",
    "código de uma peça 2, o número de peças 2 e o valor unitário de cada peça 2. Calcule e mostre o valor a ser pago."
   ]
  },
  {
   "cell_type": "code",
   "execution_count": 9,
   "metadata": {},
   "outputs": [
    {
     "name": "stdout",
     "output_type": "stream",
     "text": [
      "Pedido: Peça 1 | 10 unidades\n",
      "\n",
      "Sub-Total de peças: 10 unidades\n",
      "Sub-Total a pagar: R$ 50.00\n",
      "\n",
      "Digite 0 para encerrar o programa\n",
      "\n",
      "Pedido: Peça 2 | 5 unidades\n",
      "\n",
      "Sub-Total de peças: 15 unidades\n",
      "Sub-Total a pagar: R$ 67.50\n",
      "\n",
      "Digite 0 para encerrar o programa\n",
      "\n",
      "Pedido: Peça 3 | 20 unidades\n",
      "\n",
      "Sub-Total de peças: 35 unidades\n",
      "Sub-Total a pagar: R$ 163.50\n",
      "\n",
      "Digite 0 para encerrar o programa\n",
      "\n",
      "Total de peças: 35 unidades\n",
      "Total a pagar: R$ 163.50\n"
     ]
    }
   ],
   "source": [
    "'''\n",
    "| Produto | Código | Preço         |\n",
    "|---------|--------| ------------- |\n",
    "| peça 00 | 0      | end execution |\n",
    "| peça 01 | 1      | 5.00          |\n",
    "| peça 02 | 2      | 3.50          |\n",
    "| peça 03 | 3      | 4.80          |\n",
    "\n",
    "'''\n",
    "\n",
    "qtde_pecas = 0\n",
    "preco_total = 0\n",
    "\n",
    "def pedido(codigo_pedido, quantidade, qtde_pecas, preco_total):\n",
    "    match codigo_pedido:\n",
    "        case 1:\n",
    "            preco_total += 5.00 * quantidade\n",
    "            qtde_pecas += quantidade\n",
    "        case 2:\n",
    "            preco_total += 3.50 * quantidade\n",
    "            qtde_pecas += quantidade\n",
    "        case 3:\n",
    "            preco_total += 4.80 * quantidade\n",
    "            qtde_pecas += quantidade\n",
    "        case _:\n",
    "            print(\"Código inválido - Digite um código válido!\")\n",
    "\n",
    "    return qtde_pecas, preco_total\n",
    "\n",
    "\n",
    "codigo_pedido = int(input(\"Digite o código da peça: \"))\n",
    "\n",
    "while codigo_pedido != 0:\n",
    "\n",
    "    quantidade = int(input(\"Digite a quantidade de peças: \"))\n",
    "    qtde_pecas, preco_total = pedido(codigo_pedido, quantidade, qtde_pecas, preco_total)\n",
    "\n",
    "    print(f\"Pedido: Peça {codigo_pedido} | {quantidade} unidades\\n\")\n",
    "    print(f\"Sub-Total de peças: {qtde_pecas} unidades\")\n",
    "    print(f\"Sub-Total a pagar: R$ {preco_total:.2f}\")\n",
    "\n",
    "    print(\"\\nDigite 0 para encerrar o programa\\n\")\n",
    "\n",
    "    codigo_pedido = int(input(\"OU Digite o código da peça: \"))\n",
    "\n",
    "\n",
    "print(f\"Total de peças: {qtde_pecas} unidades\")\n",
    "print(f\"Total a pagar: R$ {preco_total:.2f}\")\n"
   ]
  }
 ],
 "metadata": {
  "kernelspec": {
   "display_name": "Python 3",
   "language": "python",
   "name": "python3"
  },
  "language_info": {
   "codemirror_mode": {
    "name": "ipython",
    "version": 3
   },
   "file_extension": ".py",
   "mimetype": "text/x-python",
   "name": "python",
   "nbconvert_exporter": "python",
   "pygments_lexer": "ipython3",
   "version": "3.12.2"
  }
 },
 "nbformat": 4,
 "nbformat_minor": 2
}
