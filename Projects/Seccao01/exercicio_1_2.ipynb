{
 "cells": [
  {
   "cell_type": "markdown",
   "metadata": {},
   "source": [
    "#### PARTE 1: ESTRUTURA SEQUENCIAL\n",
    "##### Exercício 1.2:\n",
    "\n",
    "Faça um programa para ler o valor do raio de um círculo, e depois mostrar o valor da área deste círculo com quatro\n",
    "casas decimais conforme exemplos.\n",
    "Fórmula: \n",
    "    area = π . raio²\n",
    "\n",
    "Considere o valor de π = 3.14159"
   ]
  },
  {
   "cell_type": "code",
   "execution_count": 3,
   "metadata": {},
   "outputs": [
    {
     "name": "stdout",
     "output_type": "stream",
     "text": [
      "Área do círculo é 12.56636 cm²\n",
      "Área do círculo é 15.20530 cm²\n",
      "Área do círculo é 31819.31032 cm²\n",
      "Área do círculo é 70685.77500 cm²\n",
      "Programa encerrado!\n"
     ]
    }
   ],
   "source": [
    "raio = float(input(\"Digite o raio do círculo em cm²: \"))\n",
    "\n",
    "area = 3.14159 * raio ** 2\n",
    "\n",
    "while raio > 0:\n",
    "    area = 3.14159 * raio ** 2\n",
    "\n",
    "    print(f\"Área do círculo é {area:.5f} cm²\")\n",
    "\n",
    "    raio = float(input(\"Digite o raio do círculo em cm²: \"))\n",
    "\n",
    "print(\"Programa encerrado!\")\n"
   ]
  }
 ],
 "metadata": {
  "kernelspec": {
   "display_name": "Python 3",
   "language": "python",
   "name": "python3"
  },
  "language_info": {
   "codemirror_mode": {
    "name": "ipython",
    "version": 3
   },
   "file_extension": ".py",
   "mimetype": "text/x-python",
   "name": "python",
   "nbconvert_exporter": "python",
   "pygments_lexer": "ipython3",
   "version": "3.12.2"
  }
 },
 "nbformat": 4,
 "nbformat_minor": 2
}
