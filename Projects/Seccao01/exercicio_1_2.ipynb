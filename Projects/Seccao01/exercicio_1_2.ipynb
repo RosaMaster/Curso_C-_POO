{
 "cells": [
  {
   "cell_type": "markdown",
   "metadata": {},
   "source": [
    "#### PARTE 1: ESTRUTURA SEQUENCIAL\n",
    "##### Exercício 1.2:\n",
    "\n",
    "Faça um programa para ler o valor do raio de um círculo, e depois mostrar o valor da área deste círculo com quatro\n",
    "casas decimais conforme exemplos.\n",
    "Fórmula:  = .\n",
    "Considere o valor de π = 3.14159"
   ]
  },
  {
   "cell_type": "code",
   "execution_count": null,
   "metadata": {},
   "outputs": [],
   "source": []
  }
 ],
 "metadata": {
  "language_info": {
   "name": "python"
  }
 },
 "nbformat": 4,
 "nbformat_minor": 2
}
