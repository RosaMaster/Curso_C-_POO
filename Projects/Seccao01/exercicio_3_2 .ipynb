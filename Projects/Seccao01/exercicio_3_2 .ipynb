{
 "cells": [
  {
   "cell_type": "markdown",
   "metadata": {},
   "source": [
    "#### PARTE 2: PARTE 3: ESTRUTURAS REPETITIVAS\n",
    "##### Exercício 3.2:\n",
    "\n",
    "Leia um valor inteiro N. Este valor será a quantidade de valores inteiros X que serão lidos em seguida.\n",
    "Mostre quantos destes valores X estão dentro do intervalo [10,20] e quantos estão fora do intervalo, mostrando\n",
    "essas informações conforme exemplo (use a palavra \"in\" para dentro do intervalo, e \"out\" para fora do intervalo)."
   ]
  },
  {
   "cell_type": "code",
   "execution_count": 10,
   "metadata": {},
   "outputs": [
    {
     "name": "stdout",
     "output_type": "stream",
     "text": [
      "{3, 16, 20, 28, 30}\n",
      "\n",
      "2 in\n",
      "3 out\n"
     ]
    }
   ],
   "source": [
    "import random\n",
    "\n",
    "def main():\n",
    "    \n",
    "    dentro_intervalo = 0\n",
    "    fora_intervalo = 0\n",
    "    conjunto = set()\n",
    "\n",
    "    for i in range(5):\n",
    "\n",
    "        gerar = random.randint(1, 30)\n",
    "\n",
    "        conjunto.add(gerar)\n",
    "\n",
    "        if 10 <= gerar <= 20:\n",
    "            dentro_intervalo += 1\n",
    "        else:\n",
    "            fora_intervalo += 1\n",
    "\n",
    "    print(conjunto)\n",
    "    print(f\"\\n{dentro_intervalo} in\")\n",
    "    print(f\"{fora_intervalo} out\")\n",
    "\n",
    "\n",
    "if __name__ == \"__main__\":\n",
    "    main()\n"
   ]
  }
 ],
 "metadata": {
  "kernelspec": {
   "display_name": "Python 3",
   "language": "python",
   "name": "python3"
  },
  "language_info": {
   "codemirror_mode": {
    "name": "ipython",
    "version": 3
   },
   "file_extension": ".py",
   "mimetype": "text/x-python",
   "name": "python",
   "nbconvert_exporter": "python",
   "pygments_lexer": "ipython3",
   "version": "3.12.2"
  }
 },
 "nbformat": 4,
 "nbformat_minor": 2
}
