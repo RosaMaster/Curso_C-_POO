{
 "cells": [
  {
   "cell_type": "markdown",
   "metadata": {},
   "source": [
    "#### PARTE 2: ESTRUTURA CONDICIONAL\n",
    "##### Exercício 2.2:\n",
    "\n",
    "Ler os valores dos três coeficientes \"a\", \"b\" e \"c\" de uma equação do segundo grau ( +  +  = 0)\n",
    "Em seguida, mostrar os valores das raízes da equação, conforme exemplos, usando a fórmula de Baskara (veja\n",
    "abaixo). Se a equação não possuir raízes (o valor de \"a\" não pode ser zero, e o valor de \"delta\" não pode ser\n",
    "negativo), mostrar uma mensagem \"Impossivel calcular\".\n",
    "\n",
    "Fórmula: \n",
    "    x = (-b ± √∆ / 2a)\n",
    "\n",
    "onde: ∆ =  b² − 4ac"
   ]
  },
  {
   "cell_type": "code",
   "execution_count": null,
   "metadata": {},
   "outputs": [],
   "source": []
  }
 ],
 "metadata": {
  "language_info": {
   "name": "python"
  }
 },
 "nbformat": 4,
 "nbformat_minor": 2
}
