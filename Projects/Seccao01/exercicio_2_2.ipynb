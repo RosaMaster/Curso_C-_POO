{
 "cells": [
  {
   "cell_type": "markdown",
   "metadata": {},
   "source": [
    "#### PARTE 2: ESTRUTURA CONDICIONAL\n",
    "##### Exercício 2.2:\n",
    "\n",
    "Ler os valores dos três coeficientes \"a\", \"b\" e \"c\" de uma equação do segundo grau ( **ax² + bx + c = 0** )\n",
    "Em seguida, mostrar os valores das raízes da equação, conforme exemplos, usando a fórmula de Baskara (veja\n",
    "abaixo). Se a equação não possuir raízes (o valor de \"a\" não pode ser zero, e o valor de \"**delta**\" não pode ser\n",
    "negativo), mostrar uma mensagem \"Impossivel calcular\".\n",
    "\n",
    "Fórmula: \n",
    "    x = (-b ± √∆ / 2a)\n",
    "\n",
    "onde: ∆ =  b² − 4ac"
   ]
  },
  {
   "cell_type": "code",
   "execution_count": 15,
   "metadata": {},
   "outputs": [],
   "source": [
    "lista_tupla = [\n",
    "    (10.0, 20.1, 5.1), \n",
    "    (0.0, 20.0, 5.0), \n",
    "    (10.3, 203.0, 5.0), \n",
    "    (10.0, 3.0, 5.0)\n",
    "]"
   ]
  },
  {
   "cell_type": "code",
   "execution_count": 16,
   "metadata": {},
   "outputs": [
    {
     "name": "stdout",
     "output_type": "stream",
     "text": [
      "[(10.0, 20.1, 5.1), (0.0, 20.0, 5.0), (10.3, 203.0, 5.0), (10.0, 3.0, 5.0)]\n",
      "\n",
      "-------------------------------------------------------\n",
      "Equação do segundo grau: 10.0x² + 20.1x + 5.1 = 0\n",
      "\n",
      "Delta: 200\n",
      "X1: -0.29788\n",
      "X2: -1.71212\n",
      "-------------------------------------------------------\n",
      "-------------------------------------------------------\n",
      "Equação do segundo grau: 0.0x² + 20.0x + 5.0 = 0\n",
      "\n",
      "Não é possível dividir por zero!\n",
      "-------------------------------------------------------\n",
      "-------------------------------------------------------\n",
      "Equação do segundo grau: 10.3x² + 203.0x + 5.0 = 0\n",
      "\n",
      "Delta: 41003\n",
      "X1: -0.02466\n",
      "X2: -19.68408\n",
      "-------------------------------------------------------\n",
      "-------------------------------------------------------\n",
      "Equação do segundo grau: 10.0x² + 3.0x + 5.0 = 0\n",
      "\n",
      "Delta: -191\n",
      "Erro ao calcular a raiz quadrada de um número negativo!\n",
      "-------------------------------------------------------\n"
     ]
    }
   ],
   "source": [
    "print(lista_tupla)\n",
    "print()\n",
    "\n",
    "\n",
    "def delta(a, b, c):\n",
    "    return ( b**2 ) - ( 4*a*c )\n",
    "\n",
    "\n",
    "def baskara(a, b, c):\n",
    "    print(f\"Equação do segundo grau: {a}x² + {b}x + {c} = 0\\n\")\n",
    "\n",
    "    delta_resultado = delta(a, b, c)\n",
    "\n",
    "    x1 = (-b + delta_resultado**(1/2))/(2*a)\n",
    "    x2 = (-b - delta_resultado**(1/2))/(2*a)\n",
    "\n",
    "    print(f\"Delta: {delta_resultado:.0f}\")\n",
    "\n",
    "    return x1, x2, delta_resultado\n",
    "\n",
    "\n",
    "for i in lista_tupla:\n",
    "    try:\n",
    "        print(\"-------------------------------------------------------\")\n",
    "        resultado = baskara(i[0], i[1], i[2])\n",
    "        if resultado[2] < 0:\n",
    "            raise ValueError\n",
    "        else:\n",
    "            print(f\"X1: {resultado[0]:.5f}\\nX2: {resultado[1]:.5f}\")\n",
    "\n",
    "    except ZeroDivisionError:\n",
    "        print(\"Não é possível dividir por zero!\")\n",
    "    except ValueError:\n",
    "        print(\"Erro ao calcular a raiz quadrada de um número negativo!\")\n",
    "    \n",
    "    print(\"-------------------------------------------------------\")"
   ]
  }
 ],
 "metadata": {
  "kernelspec": {
   "display_name": "Python 3",
   "language": "python",
   "name": "python3"
  },
  "language_info": {
   "codemirror_mode": {
    "name": "ipython",
    "version": 3
   },
   "file_extension": ".py",
   "mimetype": "text/x-python",
   "name": "python",
   "nbconvert_exporter": "python",
   "pygments_lexer": "ipython3",
   "version": "3.12.2"
  }
 },
 "nbformat": 4,
 "nbformat_minor": 2
}
